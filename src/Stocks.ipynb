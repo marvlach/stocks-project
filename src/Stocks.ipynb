{
 "cells": [
  {
   "cell_type": "code",
   "execution_count": 1,
   "metadata": {},
   "outputs": [],
   "source": [
    "import pandas as pd\n",
    "import numpy as np\n",
    "import seaborn as sns\n",
    "from portfolio import Portfolio, Transaction\n",
    "\n",
    "from files import read_stock_files, write_transaction_file, read_transaction_file\n",
    "from trade import evaluate_transactions, Trader"
   ]
  },
  {
   "cell_type": "code",
   "execution_count": 2,
   "metadata": {},
   "outputs": [
    {
     "name": "stderr",
     "output_type": "stream",
     "text": [
      "100%|██████████| 7195/7195 [00:21<00:00, 340.22it/s]\n"
     ]
    }
   ],
   "source": [
    "stocks_df = read_stock_files('../Stocks')"
   ]
  },
  {
   "cell_type": "code",
   "execution_count": 3,
   "metadata": {},
   "outputs": [],
   "source": [
    "# drop stocks with less than a year of data\n",
    "stocks_df = stocks_df.groupby('Name').filter(lambda x: len(x) >= 252)\n",
    "\n",
    "# drop rows\n",
    "stocks_df.drop(\n",
    "    index=stocks_df.loc[\n",
    "        (stocks_df[[\"Low\", \"High\", \"Open\", \"Close\", \"Volume\"]] <= 0).any(axis=1) | \n",
    "        (stocks_df['Low'] > stocks_df['High']) | \n",
    "        (stocks_df['Volume'] < 10) | \n",
    "        (stocks_df['High'] > 10 * stocks_df['Low'])\n",
    "    ].index,\n",
    "    inplace=True,\n",
    ")\n",
    "stocks_df.drop(columns=[\"OpenInt\"], inplace=True)\n",
    "stocks_df.set_index([\"Date\", \"Name\"], inplace=True)\n",
    "#stocks_df.sort_index(level=\"Date\", ascending=True, inplace=True)\n"
   ]
  },
  {
   "cell_type": "code",
   "execution_count": 4,
   "metadata": {},
   "outputs": [],
   "source": [
    "#stocks_df['IntraDayDiff_Volume'] = (stocks_df['High'] - stocks_df['Low']) * stocks_df['Volume'] * 0.1"
   ]
  },
  {
   "cell_type": "code",
   "execution_count": 5,
   "metadata": {},
   "outputs": [],
   "source": [
    "grouped_by_stock = stocks_df.groupby(level=[1])\n",
    "\n",
    "dff = pd.DataFrame({\n",
    "    \"HighClose\": grouped_by_stock['Close'].max(),\n",
    "    \"DateHighClose\": grouped_by_stock['Close'].idxmax().apply(lambda i: i[0]),\n",
    "    \"LowClose\": grouped_by_stock['Close'].min(),\n",
    "    \"DateLowClose\": grouped_by_stock['Close'].idxmin().apply(lambda i: i[0]),\n",
    "})\n",
    "dff['Diff'] = (dff['HighClose'] - dff['LowClose'])/dff['LowClose']\n",
    "dff = dff.loc[dff['DateHighClose'] > dff['DateLowClose'] ]\n",
    "#stonks = dff.sort_values(by='Diff', ascending=False).head(50) # change that\n",
    "stonks_names = list(dff.sort_values(by='Diff', ascending=False).head(50).index)\n",
    "stonks_names.append('ge')"
   ]
  },
  {
   "cell_type": "code",
   "execution_count": 6,
   "metadata": {},
   "outputs": [],
   "source": [
    "# keep only stonks\n",
    "stocks_df = stocks_df.loc[pd.IndexSlice[:, stonks_names], :].copy()\n",
    "stocks_df.sort_index(level=\"Date\", ascending=True, inplace=True)"
   ]
  },
  {
   "cell_type": "code",
   "execution_count": 7,
   "metadata": {},
   "outputs": [
    {
     "data": {
      "text/html": [
       "<div>\n",
       "<style scoped>\n",
       "    .dataframe tbody tr th:only-of-type {\n",
       "        vertical-align: middle;\n",
       "    }\n",
       "\n",
       "    .dataframe tbody tr th {\n",
       "        vertical-align: top;\n",
       "    }\n",
       "\n",
       "    .dataframe thead th {\n",
       "        text-align: right;\n",
       "    }\n",
       "</style>\n",
       "<table border=\"1\" class=\"dataframe\">\n",
       "  <thead>\n",
       "    <tr style=\"text-align: right;\">\n",
       "      <th></th>\n",
       "      <th></th>\n",
       "      <th>Open</th>\n",
       "      <th>High</th>\n",
       "      <th>Low</th>\n",
       "      <th>Close</th>\n",
       "      <th>Volume</th>\n",
       "    </tr>\n",
       "    <tr>\n",
       "      <th>Date</th>\n",
       "      <th>Name</th>\n",
       "      <th></th>\n",
       "      <th></th>\n",
       "      <th></th>\n",
       "      <th></th>\n",
       "      <th></th>\n",
       "    </tr>\n",
       "  </thead>\n",
       "  <tbody>\n",
       "    <tr>\n",
       "      <th>1962-01-02</th>\n",
       "      <th>ge</th>\n",
       "      <td>0.6277</td>\n",
       "      <td>0.6362</td>\n",
       "      <td>0.6201</td>\n",
       "      <td>0.6201</td>\n",
       "      <td>2575579</td>\n",
       "    </tr>\n",
       "    <tr>\n",
       "      <th>1962-01-03</th>\n",
       "      <th>ge</th>\n",
       "      <td>0.6201</td>\n",
       "      <td>0.6201</td>\n",
       "      <td>0.6122</td>\n",
       "      <td>0.6201</td>\n",
       "      <td>1764749</td>\n",
       "    </tr>\n",
       "    <tr>\n",
       "      <th>1962-01-04</th>\n",
       "      <th>ge</th>\n",
       "      <td>0.6201</td>\n",
       "      <td>0.6201</td>\n",
       "      <td>0.6037</td>\n",
       "      <td>0.6122</td>\n",
       "      <td>2194010</td>\n",
       "    </tr>\n",
       "    <tr>\n",
       "      <th>1962-01-05</th>\n",
       "      <th>ge</th>\n",
       "      <td>0.6122</td>\n",
       "      <td>0.6122</td>\n",
       "      <td>0.5798</td>\n",
       "      <td>0.5957</td>\n",
       "      <td>3255244</td>\n",
       "    </tr>\n",
       "    <tr>\n",
       "      <th>1962-01-08</th>\n",
       "      <th>ge</th>\n",
       "      <td>0.5957</td>\n",
       "      <td>0.5957</td>\n",
       "      <td>0.5716</td>\n",
       "      <td>0.5957</td>\n",
       "      <td>3696430</td>\n",
       "    </tr>\n",
       "    <tr>\n",
       "      <th>...</th>\n",
       "      <th>...</th>\n",
       "      <td>...</td>\n",
       "      <td>...</td>\n",
       "      <td>...</td>\n",
       "      <td>...</td>\n",
       "      <td>...</td>\n",
       "    </tr>\n",
       "    <tr>\n",
       "      <th rowspan=\"5\" valign=\"top\">2017-11-10</th>\n",
       "      <th>unh</th>\n",
       "      <td>211.4600</td>\n",
       "      <td>211.8100</td>\n",
       "      <td>210.2000</td>\n",
       "      <td>211.0700</td>\n",
       "      <td>1384718</td>\n",
       "    </tr>\n",
       "    <tr>\n",
       "      <th>utx</th>\n",
       "      <td>118.0000</td>\n",
       "      <td>118.4800</td>\n",
       "      <td>118.0000</td>\n",
       "      <td>118.1100</td>\n",
       "      <td>3122513</td>\n",
       "    </tr>\n",
       "    <tr>\n",
       "      <th>uve</th>\n",
       "      <td>25.2500</td>\n",
       "      <td>25.4500</td>\n",
       "      <td>24.9500</td>\n",
       "      <td>25.2500</td>\n",
       "      <td>256504</td>\n",
       "    </tr>\n",
       "    <tr>\n",
       "      <th>viav</th>\n",
       "      <td>8.4000</td>\n",
       "      <td>8.6100</td>\n",
       "      <td>8.3400</td>\n",
       "      <td>8.5500</td>\n",
       "      <td>5418048</td>\n",
       "    </tr>\n",
       "    <tr>\n",
       "      <th>wmt</th>\n",
       "      <td>90.2400</td>\n",
       "      <td>91.6900</td>\n",
       "      <td>90.2000</td>\n",
       "      <td>90.9200</td>\n",
       "      <td>7646013</td>\n",
       "    </tr>\n",
       "  </tbody>\n",
       "</table>\n",
       "<p>384693 rows × 5 columns</p>\n",
       "</div>"
      ],
      "text/plain": [
       "                     Open      High       Low     Close   Volume\n",
       "Date       Name                                                 \n",
       "1962-01-02 ge      0.6277    0.6362    0.6201    0.6201  2575579\n",
       "1962-01-03 ge      0.6201    0.6201    0.6122    0.6201  1764749\n",
       "1962-01-04 ge      0.6201    0.6201    0.6037    0.6122  2194010\n",
       "1962-01-05 ge      0.6122    0.6122    0.5798    0.5957  3255244\n",
       "1962-01-08 ge      0.5957    0.5957    0.5716    0.5957  3696430\n",
       "...                   ...       ...       ...       ...      ...\n",
       "2017-11-10 unh   211.4600  211.8100  210.2000  211.0700  1384718\n",
       "           utx   118.0000  118.4800  118.0000  118.1100  3122513\n",
       "           uve    25.2500   25.4500   24.9500   25.2500   256504\n",
       "           viav    8.4000    8.6100    8.3400    8.5500  5418048\n",
       "           wmt    90.2400   91.6900   90.2000   90.9200  7646013\n",
       "\n",
       "[384693 rows x 5 columns]"
      ]
     },
     "execution_count": 7,
     "metadata": {},
     "output_type": "execute_result"
    }
   ],
   "source": [
    "stocks_df"
   ]
  },
  {
   "cell_type": "code",
   "execution_count": 8,
   "metadata": {},
   "outputs": [],
   "source": [
    "stocks_df['AllTimeMaxClose'] = stocks_df.groupby('Name')['Close'].transform('max')\n",
    "stocks_df['AllTimeMinClose'] = stocks_df.groupby('Name')['Close'].transform('min')\n",
    "stocks_df['AllTimeMaxCloseDate'] = stocks_df.index.get_level_values('Name').map(\n",
    "    stocks_df.groupby('Name')['Close'].idxmax().map(lambda x: x[0])\n",
    ")\n",
    "stocks_df['AllTimeMinCloseDate'] = stocks_df.index.get_level_values('Name').map(\n",
    "    stocks_df.groupby('Name')['Close'].idxmin().map(lambda x: x[0])\n",
    ")\n"
   ]
  },
  {
   "cell_type": "code",
   "execution_count": 9,
   "metadata": {},
   "outputs": [],
   "source": [
    "stocks_df['WantToSell'] = 0\n",
    "stocks_df['WantToBuy'] = 0\n",
    "\n",
    "stocks_df['PercentageIncrease'] = (stocks_df['Close'] - stocks_df['AllTimeMinClose'])/(stocks_df['AllTimeMaxClose'] - stocks_df['AllTimeMinClose'])\n",
    "stocks_df.loc[stocks_df['PercentageIncrease'] > 0.6, 'WantToSell'] = 1\n",
    "stocks_df.loc[stocks_df['PercentageIncrease'] < 0.1, 'WantToBuy'] = 1\n",
    "\"\"\" \n",
    "stocks_df.loc[\n",
    "    (\n",
    "        pd.to_datetime(stocks_df['AllTimeMaxCloseDate'].max()) \n",
    "        - pd.to_datetime(stocks_df.index.get_level_values('Date'))\n",
    "    ) / pd.Timedelta(days=1) < 1000, 'WantToSell'\n",
    "] = 1 \n",
    "\"\"\"\n",
    "\n",
    "\n",
    "stocks_df.loc[stocks_df.index.get_level_values('Date') > stocks_df['AllTimeMaxCloseDate'], 'WantToBuy'] = 0\n",
    "stocks_df.loc[stocks_df.index.get_level_values('Date') > stocks_df['AllTimeMaxCloseDate'], 'WantToSell'] = 1\n",
    "stocks_df.loc[stocks_df.index.get_level_values('Date') < stocks_df['AllTimeMinCloseDate'], 'WantToBuy'] = 0\n",
    "stocks_df.loc[stocks_df.index.get_level_values('Date') < stocks_df['AllTimeMinCloseDate'], 'WantToSell'] = 0"
   ]
  },
  {
   "cell_type": "code",
   "execution_count": 10,
   "metadata": {},
   "outputs": [
    {
     "data": {
      "text/html": [
       "<div>\n",
       "<style scoped>\n",
       "    .dataframe tbody tr th:only-of-type {\n",
       "        vertical-align: middle;\n",
       "    }\n",
       "\n",
       "    .dataframe tbody tr th {\n",
       "        vertical-align: top;\n",
       "    }\n",
       "\n",
       "    .dataframe thead th {\n",
       "        text-align: right;\n",
       "    }\n",
       "</style>\n",
       "<table border=\"1\" class=\"dataframe\">\n",
       "  <thead>\n",
       "    <tr style=\"text-align: right;\">\n",
       "      <th></th>\n",
       "      <th></th>\n",
       "      <th>Open</th>\n",
       "      <th>High</th>\n",
       "      <th>Low</th>\n",
       "      <th>Close</th>\n",
       "      <th>Volume</th>\n",
       "      <th>AllTimeMaxClose</th>\n",
       "      <th>AllTimeMinClose</th>\n",
       "      <th>AllTimeMaxCloseDate</th>\n",
       "      <th>AllTimeMinCloseDate</th>\n",
       "      <th>WantToSell</th>\n",
       "      <th>WantToBuy</th>\n",
       "      <th>PercentageIncrease</th>\n",
       "    </tr>\n",
       "    <tr>\n",
       "      <th>Date</th>\n",
       "      <th>Name</th>\n",
       "      <th></th>\n",
       "      <th></th>\n",
       "      <th></th>\n",
       "      <th></th>\n",
       "      <th></th>\n",
       "      <th></th>\n",
       "      <th></th>\n",
       "      <th></th>\n",
       "      <th></th>\n",
       "      <th></th>\n",
       "      <th></th>\n",
       "      <th></th>\n",
       "    </tr>\n",
       "  </thead>\n",
       "  <tbody>\n",
       "    <tr>\n",
       "      <th>1962-01-02</th>\n",
       "      <th>ge</th>\n",
       "      <td>0.6277</td>\n",
       "      <td>0.6362</td>\n",
       "      <td>0.6201</td>\n",
       "      <td>0.6201</td>\n",
       "      <td>2575579</td>\n",
       "      <td>48.056</td>\n",
       "      <td>0.45902</td>\n",
       "      <td>2000-08-28</td>\n",
       "      <td>1962-06-22</td>\n",
       "      <td>0</td>\n",
       "      <td>0</td>\n",
       "      <td>0.003384</td>\n",
       "    </tr>\n",
       "    <tr>\n",
       "      <th>1962-01-03</th>\n",
       "      <th>ge</th>\n",
       "      <td>0.6201</td>\n",
       "      <td>0.6201</td>\n",
       "      <td>0.6122</td>\n",
       "      <td>0.6201</td>\n",
       "      <td>1764749</td>\n",
       "      <td>48.056</td>\n",
       "      <td>0.45902</td>\n",
       "      <td>2000-08-28</td>\n",
       "      <td>1962-06-22</td>\n",
       "      <td>0</td>\n",
       "      <td>0</td>\n",
       "      <td>0.003384</td>\n",
       "    </tr>\n",
       "    <tr>\n",
       "      <th>1962-01-04</th>\n",
       "      <th>ge</th>\n",
       "      <td>0.6201</td>\n",
       "      <td>0.6201</td>\n",
       "      <td>0.6037</td>\n",
       "      <td>0.6122</td>\n",
       "      <td>2194010</td>\n",
       "      <td>48.056</td>\n",
       "      <td>0.45902</td>\n",
       "      <td>2000-08-28</td>\n",
       "      <td>1962-06-22</td>\n",
       "      <td>0</td>\n",
       "      <td>0</td>\n",
       "      <td>0.003218</td>\n",
       "    </tr>\n",
       "    <tr>\n",
       "      <th>1962-01-05</th>\n",
       "      <th>ge</th>\n",
       "      <td>0.6122</td>\n",
       "      <td>0.6122</td>\n",
       "      <td>0.5798</td>\n",
       "      <td>0.5957</td>\n",
       "      <td>3255244</td>\n",
       "      <td>48.056</td>\n",
       "      <td>0.45902</td>\n",
       "      <td>2000-08-28</td>\n",
       "      <td>1962-06-22</td>\n",
       "      <td>0</td>\n",
       "      <td>0</td>\n",
       "      <td>0.002872</td>\n",
       "    </tr>\n",
       "    <tr>\n",
       "      <th>1962-01-08</th>\n",
       "      <th>ge</th>\n",
       "      <td>0.5957</td>\n",
       "      <td>0.5957</td>\n",
       "      <td>0.5716</td>\n",
       "      <td>0.5957</td>\n",
       "      <td>3696430</td>\n",
       "      <td>48.056</td>\n",
       "      <td>0.45902</td>\n",
       "      <td>2000-08-28</td>\n",
       "      <td>1962-06-22</td>\n",
       "      <td>0</td>\n",
       "      <td>0</td>\n",
       "      <td>0.002872</td>\n",
       "    </tr>\n",
       "    <tr>\n",
       "      <th>...</th>\n",
       "      <th>...</th>\n",
       "      <td>...</td>\n",
       "      <td>...</td>\n",
       "      <td>...</td>\n",
       "      <td>...</td>\n",
       "      <td>...</td>\n",
       "      <td>...</td>\n",
       "      <td>...</td>\n",
       "      <td>...</td>\n",
       "      <td>...</td>\n",
       "      <td>...</td>\n",
       "      <td>...</td>\n",
       "      <td>...</td>\n",
       "    </tr>\n",
       "    <tr>\n",
       "      <th rowspan=\"5\" valign=\"top\">2017-11-10</th>\n",
       "      <th>unh</th>\n",
       "      <td>211.4600</td>\n",
       "      <td>211.8100</td>\n",
       "      <td>210.2000</td>\n",
       "      <td>211.0700</td>\n",
       "      <td>1384718</td>\n",
       "      <td>212.870</td>\n",
       "      <td>0.26126</td>\n",
       "      <td>2017-11-03</td>\n",
       "      <td>1990-03-26</td>\n",
       "      <td>1</td>\n",
       "      <td>0</td>\n",
       "      <td>0.991534</td>\n",
       "    </tr>\n",
       "    <tr>\n",
       "      <th>utx</th>\n",
       "      <td>118.0000</td>\n",
       "      <td>118.4800</td>\n",
       "      <td>118.0000</td>\n",
       "      <td>118.1100</td>\n",
       "      <td>3122513</td>\n",
       "      <td>122.960</td>\n",
       "      <td>0.20553</td>\n",
       "      <td>2017-07-12</td>\n",
       "      <td>1970-07-06</td>\n",
       "      <td>1</td>\n",
       "      <td>0</td>\n",
       "      <td>0.960490</td>\n",
       "    </tr>\n",
       "    <tr>\n",
       "      <th>uve</th>\n",
       "      <td>25.2500</td>\n",
       "      <td>25.4500</td>\n",
       "      <td>24.9500</td>\n",
       "      <td>25.2500</td>\n",
       "      <td>256504</td>\n",
       "      <td>34.076</td>\n",
       "      <td>0.02781</td>\n",
       "      <td>2015-10-23</td>\n",
       "      <td>2005-02-25</td>\n",
       "      <td>1</td>\n",
       "      <td>0</td>\n",
       "      <td>0.740779</td>\n",
       "    </tr>\n",
       "    <tr>\n",
       "      <th>viav</th>\n",
       "      <td>8.4000</td>\n",
       "      <td>8.6100</td>\n",
       "      <td>8.3400</td>\n",
       "      <td>8.5500</td>\n",
       "      <td>5418048</td>\n",
       "      <td>666.460</td>\n",
       "      <td>1.00060</td>\n",
       "      <td>2000-03-06</td>\n",
       "      <td>1994-04-19</td>\n",
       "      <td>1</td>\n",
       "      <td>0</td>\n",
       "      <td>0.011345</td>\n",
       "    </tr>\n",
       "    <tr>\n",
       "      <th>wmt</th>\n",
       "      <td>90.2400</td>\n",
       "      <td>91.6900</td>\n",
       "      <td>90.2000</td>\n",
       "      <td>90.9200</td>\n",
       "      <td>7646013</td>\n",
       "      <td>90.920</td>\n",
       "      <td>0.00821</td>\n",
       "      <td>2017-11-10</td>\n",
       "      <td>1974-12-06</td>\n",
       "      <td>1</td>\n",
       "      <td>0</td>\n",
       "      <td>1.000000</td>\n",
       "    </tr>\n",
       "  </tbody>\n",
       "</table>\n",
       "<p>384693 rows × 12 columns</p>\n",
       "</div>"
      ],
      "text/plain": [
       "                     Open      High       Low     Close   Volume  \\\n",
       "Date       Name                                                    \n",
       "1962-01-02 ge      0.6277    0.6362    0.6201    0.6201  2575579   \n",
       "1962-01-03 ge      0.6201    0.6201    0.6122    0.6201  1764749   \n",
       "1962-01-04 ge      0.6201    0.6201    0.6037    0.6122  2194010   \n",
       "1962-01-05 ge      0.6122    0.6122    0.5798    0.5957  3255244   \n",
       "1962-01-08 ge      0.5957    0.5957    0.5716    0.5957  3696430   \n",
       "...                   ...       ...       ...       ...      ...   \n",
       "2017-11-10 unh   211.4600  211.8100  210.2000  211.0700  1384718   \n",
       "           utx   118.0000  118.4800  118.0000  118.1100  3122513   \n",
       "           uve    25.2500   25.4500   24.9500   25.2500   256504   \n",
       "           viav    8.4000    8.6100    8.3400    8.5500  5418048   \n",
       "           wmt    90.2400   91.6900   90.2000   90.9200  7646013   \n",
       "\n",
       "                 AllTimeMaxClose  AllTimeMinClose AllTimeMaxCloseDate  \\\n",
       "Date       Name                                                         \n",
       "1962-01-02 ge             48.056          0.45902          2000-08-28   \n",
       "1962-01-03 ge             48.056          0.45902          2000-08-28   \n",
       "1962-01-04 ge             48.056          0.45902          2000-08-28   \n",
       "1962-01-05 ge             48.056          0.45902          2000-08-28   \n",
       "1962-01-08 ge             48.056          0.45902          2000-08-28   \n",
       "...                          ...              ...                 ...   \n",
       "2017-11-10 unh           212.870          0.26126          2017-11-03   \n",
       "           utx           122.960          0.20553          2017-07-12   \n",
       "           uve            34.076          0.02781          2015-10-23   \n",
       "           viav          666.460          1.00060          2000-03-06   \n",
       "           wmt            90.920          0.00821          2017-11-10   \n",
       "\n",
       "                AllTimeMinCloseDate  WantToSell  WantToBuy  PercentageIncrease  \n",
       "Date       Name                                                                 \n",
       "1962-01-02 ge            1962-06-22           0          0            0.003384  \n",
       "1962-01-03 ge            1962-06-22           0          0            0.003384  \n",
       "1962-01-04 ge            1962-06-22           0          0            0.003218  \n",
       "1962-01-05 ge            1962-06-22           0          0            0.002872  \n",
       "1962-01-08 ge            1962-06-22           0          0            0.002872  \n",
       "...                             ...         ...        ...                 ...  \n",
       "2017-11-10 unh           1990-03-26           1          0            0.991534  \n",
       "           utx           1970-07-06           1          0            0.960490  \n",
       "           uve           2005-02-25           1          0            0.740779  \n",
       "           viav          1994-04-19           1          0            0.011345  \n",
       "           wmt           1974-12-06           1          0            1.000000  \n",
       "\n",
       "[384693 rows x 12 columns]"
      ]
     },
     "execution_count": 10,
     "metadata": {},
     "output_type": "execute_result"
    }
   ],
   "source": [
    "stocks_df"
   ]
  },
  {
   "cell_type": "code",
   "execution_count": 11,
   "metadata": {},
   "outputs": [
    {
     "data": {
      "text/plain": [
       "<Axes: xlabel='None'>"
      ]
     },
     "execution_count": 11,
     "metadata": {},
     "output_type": "execute_result"
    },
    {
     "data": {
      "image/png": "[encoded data removed]",
      "text/plain": [
       "<Figure size 640x480 with 1 Axes>"
      ]
     },
     "metadata": {},
     "output_type": "display_data"
    }
   ],
   "source": [
    "some_stock = stocks_df.query(\"Name == 'mo'\")['Close']\n",
    "x1, y1 = pd.to_datetime((some_stock.index.map(lambda x: x[0]))), some_stock.values\n",
    "\n",
    "sns.lineplot(x=x1, y=y1)\n"
   ]
  },
  {
   "cell_type": "code",
   "execution_count": 12,
   "metadata": {},
   "outputs": [
    {
     "data": {
      "text/plain": [
       "<Axes: xlabel='None'>"
      ]
     },
     "execution_count": 12,
     "metadata": {},
     "output_type": "execute_result"
    },
    {
     "data": {
      "image/png": "[encoded data removed]",
      "text/plain": [
       "<Figure size 640x480 with 1 Axes>"
      ]
     },
     "metadata": {},
     "output_type": "display_data"
    }
   ],
   "source": [
    "some_stock = stocks_df.query(\"Name == 'mo'\")['WantToSell']\n",
    "#some_stock = stocks_df.query(\"Name == 'ge'\")['WantToBuy']\n",
    "x1, y1 = pd.to_datetime((some_stock.index.map(lambda x: x[0]))), some_stock.values\n",
    "\n",
    "sns.lineplot(x=x1, y=y1)\n"
   ]
  },
  {
   "cell_type": "code",
   "execution_count": 13,
   "metadata": {},
   "outputs": [],
   "source": [
    "\n",
    "\n",
    "portfolio = Portfolio()\n",
    "trader = Trader(stocks_df, portfolio)\n",
    "trader.trade()\n"
   ]
  },
  {
   "cell_type": "code",
   "execution_count": 15,
   "metadata": {},
   "outputs": [
    {
     "name": "stdout",
     "output_type": "stream",
     "text": [
      "656472753373.1003\n",
      "{'mo': 834025234, 'adbe': 70531510, 'rost': 314339678, 'aapl': 494379259, 'atro': 1430017, 'unh': 83682219, 'lrcx': 6496231, 'amzn': 88721985}\n"
     ]
    }
   ],
   "source": [
    "print(portfolio.balance)\n",
    "print(portfolio.get_stocks())\n",
    "# 359659100427.766 0.1 0.6\n",
    "# 359659100427.766 0.1 0.6 ksepoulima 1000\n",
    "# refactored\n",
    "# 656472753373.1003 0.1 0.6 ksepoulima 1000"
   ]
  },
  {
   "cell_type": "code",
   "execution_count": 16,
   "metadata": {},
   "outputs": [],
   "source": [
    "#write_transaction_file('../test_ge.txt', portfolio.transaction_history) \n",
    "#write_transaction_file('../test_aapl.txt', portfolio.transaction_history) #  18451514975.311516\n",
    "write_transaction_file('../test_large.txt', portfolio.transaction_history) # 233706764502.7446 "
   ]
  },
  {
   "cell_type": "code",
   "execution_count": 17,
   "metadata": {},
   "outputs": [],
   "source": [
    "def plot_transaction_history(df: pd.DataFrame, transactions: list[Transaction]):\n",
    "    portfolio = Portfolio()\n",
    "    money = {}\n",
    "    stocks = {}\n",
    "    for transaction in transactions:\n",
    "        row_df = df.loc[(transaction.day, transaction.stock)]\n",
    "        if transaction.transaction_type.startswith(\"buy\"):\n",
    "            portfolio.buy(row_df, transaction.transaction_type, transaction.count)\n",
    "        else:\n",
    "            portfolio.sell(row_df, transaction.transaction_type, transaction.count)\n",
    "        \n",
    "        sum_transaction = 0\n",
    "        \n",
    "        for stonk_name, stonk_count in portfolio.get_stocks().items():\n",
    "            try:\n",
    "                sum_transaction += (df.loc[(transaction.day, stonk_name)]['Close'] * stonk_count)\n",
    "            except Exception:\n",
    "                continue\n",
    "        money[transaction.day] = portfolio.get_balance()\n",
    "        stocks[transaction.day] = sum_transaction\n",
    "        \n",
    "    return money, stocks\n",
    "\n",
    "money, stocks = plot_transaction_history(stocks_df, portfolio.transaction_history)"
   ]
  },
  {
   "cell_type": "code",
   "execution_count": 18,
   "metadata": {},
   "outputs": [
    {
     "data": {
      "text/plain": [
       "<Axes: >"
      ]
     },
     "execution_count": 18,
     "metadata": {},
     "output_type": "execute_result"
    },
    {
     "data": {
      "image/png": "[encoded data removed]",
      "text/plain": [
       "<Figure size 640x480 with 1 Axes>"
      ]
     },
     "metadata": {},
     "output_type": "display_data"
    }
   ],
   "source": [
    "money_to_plot = pd.Series(list(money.values()), index=pd.to_datetime(list(money.keys())))\n",
    "money_plot = sns.lineplot(money_to_plot)\n",
    "money_plot.set_yscale(\"log\")\n",
    "money_plot.set_yticks(np.logspace(0, 11, num=12))\n",
    "money_plot"
   ]
  },
  {
   "cell_type": "code",
   "execution_count": 22,
   "metadata": {},
   "outputs": [
    {
     "data": {
      "text/plain": [
       "292977495187.43"
      ]
     },
     "execution_count": 22,
     "metadata": {},
     "output_type": "execute_result"
    }
   ],
   "source": [
    "stocks['2017-11-10']"
   ]
  },
  {
   "cell_type": "code",
   "execution_count": 19,
   "metadata": {},
   "outputs": [
    {
     "data": {
      "text/plain": [
       "<Axes: >"
      ]
     },
     "execution_count": 19,
     "metadata": {},
     "output_type": "execute_result"
    },
    {
     "data": {
      "image/png": "[encoded data removed]",
      "text/plain": [
       "<Figure size 640x480 with 1 Axes>"
      ]
     },
     "metadata": {},
     "output_type": "display_data"
    }
   ],
   "source": [
    "stock_to_plot = pd.Series(list(stocks.values()), index=pd.to_datetime(list(stocks.keys())))\n",
    "stock_plot = sns.lineplot(stock_to_plot)\n",
    "stock_plot.set_yscale(\"log\")\n",
    "stock_plot.set_yticks(np.logspace(0, 11, num=12))\n",
    "stock_plot"
   ]
  },
  {
   "cell_type": "code",
   "execution_count": null,
   "metadata": {},
   "outputs": [],
   "source": []
  }
 ],
 "metadata": {
  "kernelspec": {
   "display_name": ".venv",
   "language": "python",
   "name": "python3"
  },
  "language_info": {
   "codemirror_mode": {
    "name": "ipython",
    "version": 3
   },
   "file_extension": ".py",
   "mimetype": "text/x-python",
   "name": "python",
   "nbconvert_exporter": "python",
   "pygments_lexer": "ipython3",
   "version": "3.11.5"
  }
 },
 "nbformat": 4,
 "nbformat_minor": 2
}
