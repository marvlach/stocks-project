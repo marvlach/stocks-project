{
 "cells": [
  {
   "cell_type": "code",
   "execution_count": 13,
   "metadata": {},
   "outputs": [],
   "source": [
    "import pandas as pd\n",
    "import os\n",
    "from tqdm import tqdm"
   ]
  },
  {
   "cell_type": "code",
   "execution_count": 16,
   "metadata": {},
   "outputs": [],
   "source": [
    "def read_stock_files(directory: str) -> pd.DataFrame:\n",
    "    df_list = []\n",
    "    for filename in tqdm(os.listdir(directory)):\n",
    "        if not filename.endswith(\".us.txt\"):\n",
    "            continue\n",
    "        try:\n",
    "            file_path = os.path.join(directory, filename)\n",
    "            df = pd.read_csv(\n",
    "                file_path,\n",
    "                parse_dates=[\"Date\"],\n",
    "                dtype={\"Open\": float, \"High\": float, \"Low\": float, \"Close\": float},\n",
    "            )\n",
    "            stock_name = filename.split(\".\")[0]\n",
    "            df['Name'] = stock_name \n",
    "            df_list.append(df)\n",
    "        except pd.errors.EmptyDataError:\n",
    "            continue\n",
    "    all_data = pd.concat(df_list, ignore_index=True)\n",
    "    return all_data\n",
    "\n"
   ]
  },
  {
   "cell_type": "code",
   "execution_count": 17,
   "metadata": {},
   "outputs": [
    {
     "name": "stderr",
     "output_type": "stream",
     "text": [
      "  0%|          | 6/7195 [00:00<02:00, 59.55it/s]"
     ]
    },
    {
     "name": "stderr",
     "output_type": "stream",
     "text": [
      "  2%|▏         | 126/7195 [00:01<01:07, 104.18it/s]"
     ]
    },
    {
     "name": "stdout",
     "output_type": "stream",
     "text": [
      "File ../Stocks/sail.us.txt is empty.\n"
     ]
    },
    {
     "name": "stderr",
     "output_type": "stream",
     "text": [
      "  2%|▏         | 169/7195 [00:01<01:17, 90.73it/s] "
     ]
    },
    {
     "name": "stdout",
     "output_type": "stream",
     "text": [
      "File ../Stocks/molc.us.txt is empty.\n",
      "File ../Stocks/pbio.us.txt is empty.\n"
     ]
    },
    {
     "name": "stderr",
     "output_type": "stream",
     "text": [
      "  6%|▋         | 455/7195 [00:04<00:56, 118.48it/s]"
     ]
    },
    {
     "name": "stdout",
     "output_type": "stream",
     "text": [
      "File ../Stocks/boxl.us.txt is empty.\n"
     ]
    },
    {
     "name": "stderr",
     "output_type": "stream",
     "text": [
      " 15%|█▌        | 1084/7195 [00:08<00:44, 137.04it/s]"
     ]
    },
    {
     "name": "stdout",
     "output_type": "stream",
     "text": [
      "File ../Stocks/accp.us.txt is empty.\n"
     ]
    },
    {
     "name": "stderr",
     "output_type": "stream",
     "text": [
      " 20%|█▉        | 1433/7195 [00:11<00:44, 130.84it/s]"
     ]
    },
    {
     "name": "stdout",
     "output_type": "stream",
     "text": [
      "File ../Stocks/jt.us.txt is empty.\n",
      "File ../Stocks/amrh.us.txt is empty.\n"
     ]
    },
    {
     "name": "stderr",
     "output_type": "stream",
     "text": [
      " 21%|██        | 1517/7195 [00:12<00:42, 134.24it/s]"
     ]
    },
    {
     "name": "stdout",
     "output_type": "stream",
     "text": [
      "File ../Stocks/ehr.us.txt is empty.\n",
      "File ../Stocks/pxus.us.txt is empty.\n"
     ]
    },
    {
     "name": "stderr",
     "output_type": "stream",
     "text": [
      " 24%|██▍       | 1720/7195 [00:13<00:36, 149.27it/s]"
     ]
    },
    {
     "name": "stdout",
     "output_type": "stream",
     "text": [
      "File ../Stocks/hayu.us.txt is empty.\n"
     ]
    },
    {
     "name": "stderr",
     "output_type": "stream",
     "text": [
      " 29%|██▉       | 2113/7195 [00:17<00:38, 131.50it/s]"
     ]
    },
    {
     "name": "stdout",
     "output_type": "stream",
     "text": [
      "File ../Stocks/sfix.us.txt is empty.\n"
     ]
    },
    {
     "name": "stderr",
     "output_type": "stream",
     "text": [
      " 32%|███▏      | 2291/7195 [00:19<00:40, 120.67it/s]"
     ]
    },
    {
     "name": "stdout",
     "output_type": "stream",
     "text": [
      "File ../Stocks/fmax.us.txt is empty.\n"
     ]
    },
    {
     "name": "stderr",
     "output_type": "stream",
     "text": [
      " 33%|███▎      | 2391/7195 [00:20<00:49, 97.63it/s] "
     ]
    },
    {
     "name": "stdout",
     "output_type": "stream",
     "text": [
      "File ../Stocks/bolt.us.txt is empty.\n"
     ]
    },
    {
     "name": "stderr",
     "output_type": "stream",
     "text": [
      " 43%|████▎     | 3108/7195 [00:25<00:28, 144.95it/s]"
     ]
    },
    {
     "name": "stdout",
     "output_type": "stream",
     "text": [
      "File ../Stocks/stnl.us.txt is empty.\n",
      "File ../Stocks/vmet.us.txt is empty.\n"
     ]
    },
    {
     "name": "stderr",
     "output_type": "stream",
     "text": [
      " 46%|████▌     | 3290/7195 [00:27<00:30, 129.17it/s]"
     ]
    },
    {
     "name": "stdout",
     "output_type": "stream",
     "text": [
      "File ../Stocks/bbrx.us.txt is empty.\n"
     ]
    },
    {
     "name": "stderr",
     "output_type": "stream",
     "text": [
      " 48%|████▊     | 3448/7195 [00:28<00:28, 132.63it/s]"
     ]
    },
    {
     "name": "stdout",
     "output_type": "stream",
     "text": [
      "File ../Stocks/mapi.us.txt is empty.\n"
     ]
    },
    {
     "name": "stderr",
     "output_type": "stream",
     "text": [
      " 53%|█████▎    | 3841/7195 [00:31<00:24, 139.13it/s]"
     ]
    },
    {
     "name": "stdout",
     "output_type": "stream",
     "text": [
      "File ../Stocks/gnst.us.txt is empty.\n"
     ]
    },
    {
     "name": "stderr",
     "output_type": "stream",
     "text": [
      " 58%|█████▊    | 4184/7195 [00:33<00:19, 157.31it/s]"
     ]
    },
    {
     "name": "stdout",
     "output_type": "stream",
     "text": [
      "File ../Stocks/wnfm.us.txt is empty.\n"
     ]
    },
    {
     "name": "stderr",
     "output_type": "stream",
     "text": [
      " 66%|██████▌   | 4729/7195 [00:37<00:17, 137.69it/s]"
     ]
    },
    {
     "name": "stdout",
     "output_type": "stream",
     "text": [
      "File ../Stocks/rbio.us.txt is empty.\n"
     ]
    },
    {
     "name": "stderr",
     "output_type": "stream",
     "text": [
      " 67%|██████▋   | 4801/7195 [00:38<00:17, 134.13it/s]"
     ]
    },
    {
     "name": "stdout",
     "output_type": "stream",
     "text": [
      "File ../Stocks/asns.us.txt is empty.\n"
     ]
    },
    {
     "name": "stderr",
     "output_type": "stream",
     "text": [
      " 76%|███████▌  | 5446/7195 [00:43<00:13, 130.45it/s]"
     ]
    },
    {
     "name": "stdout",
     "output_type": "stream",
     "text": [
      "File ../Stocks/amrhw.us.txt is empty.\n",
      "File ../Stocks/wspt.us.txt is empty.\n"
     ]
    },
    {
     "name": "stderr",
     "output_type": "stream",
     "text": [
      " 76%|███████▋  | 5487/7195 [00:43<00:15, 112.50it/s]"
     ]
    },
    {
     "name": "stdout",
     "output_type": "stream",
     "text": [
      "File ../Stocks/scci.us.txt is empty.\n"
     ]
    },
    {
     "name": "stderr",
     "output_type": "stream",
     "text": [
      " 77%|███████▋  | 5549/7195 [00:44<00:15, 105.88it/s]"
     ]
    },
    {
     "name": "stdout",
     "output_type": "stream",
     "text": [
      "File ../Stocks/sbt.us.txt is empty.\n"
     ]
    },
    {
     "name": "stderr",
     "output_type": "stream",
     "text": [
      " 78%|███████▊  | 5585/7195 [00:44<00:14, 111.44it/s]"
     ]
    },
    {
     "name": "stdout",
     "output_type": "stream",
     "text": [
      "File ../Stocks/znwaa.us.txt is empty.\n"
     ]
    },
    {
     "name": "stderr",
     "output_type": "stream",
     "text": [
      " 79%|███████▉  | 5667/7195 [00:44<00:11, 135.94it/s]"
     ]
    },
    {
     "name": "stdout",
     "output_type": "stream",
     "text": [
      "File ../Stocks/srva.us.txt is empty.\n",
      "File ../Stocks/bxg.us.txt is empty.\n"
     ]
    },
    {
     "name": "stderr",
     "output_type": "stream",
     "text": [
      " 80%|███████▉  | 5731/7195 [00:45<00:10, 144.27it/s]"
     ]
    },
    {
     "name": "stdout",
     "output_type": "stream",
     "text": [
      "File ../Stocks/send.us.txt is empty.\n"
     ]
    },
    {
     "name": "stderr",
     "output_type": "stream",
     "text": [
      " 83%|████████▎ | 5975/7195 [00:47<00:09, 122.75it/s]"
     ]
    },
    {
     "name": "stdout",
     "output_type": "stream",
     "text": [
      "File ../Stocks/vist.us.txt is empty.\n",
      "File ../Stocks/otg.us.txt is empty.\n"
     ]
    },
    {
     "name": "stderr",
     "output_type": "stream",
     "text": [
      " 98%|█████████▊| 7065/7195 [00:55<00:00, 152.97it/s]"
     ]
    },
    {
     "name": "stdout",
     "output_type": "stream",
     "text": [
      "File ../Stocks/scph.us.txt is empty.\n"
     ]
    },
    {
     "name": "stderr",
     "output_type": "stream",
     "text": [
      "100%|██████████| 7195/7195 [00:56<00:00, 127.07it/s]\n"
     ]
    }
   ],
   "source": [
    "stocks_df = read_stock_files('../Stocks')"
   ]
  },
  {
   "cell_type": "code",
   "execution_count": 24,
   "metadata": {},
   "outputs": [
    {
     "name": "stdout",
     "output_type": "stream",
     "text": [
      "[0]\n"
     ]
    }
   ],
   "source": [
    "print(stocks_df['OpenInt'].unique())\n",
    "stocks_df.drop(columns=['OpenInt'], inplace=True)"
   ]
  },
  {
   "cell_type": "code",
   "execution_count": 28,
   "metadata": {},
   "outputs": [
    {
     "data": {
      "text/html": [
       "<div>\n",
       "<style scoped>\n",
       "    .dataframe tbody tr th:only-of-type {\n",
       "        vertical-align: middle;\n",
       "    }\n",
       "\n",
       "    .dataframe tbody tr th {\n",
       "        vertical-align: top;\n",
       "    }\n",
       "\n",
       "    .dataframe thead th {\n",
       "        text-align: right;\n",
       "    }\n",
       "</style>\n",
       "<table border=\"1\" class=\"dataframe\">\n",
       "  <thead>\n",
       "    <tr style=\"text-align: right;\">\n",
       "      <th></th>\n",
       "      <th>Date</th>\n",
       "      <th>Open</th>\n",
       "      <th>High</th>\n",
       "      <th>Low</th>\n",
       "      <th>Close</th>\n",
       "      <th>Volume</th>\n",
       "      <th>Name</th>\n",
       "    </tr>\n",
       "  </thead>\n",
       "  <tbody>\n",
       "    <tr>\n",
       "      <th>0</th>\n",
       "      <td>2016-09-16</td>\n",
       "      <td>24.094</td>\n",
       "      <td>24.363</td>\n",
       "      <td>23.596</td>\n",
       "      <td>23.757</td>\n",
       "      <td>5134322</td>\n",
       "      <td>ntb</td>\n",
       "    </tr>\n",
       "    <tr>\n",
       "      <th>1</th>\n",
       "      <td>2016-09-19</td>\n",
       "      <td>23.903</td>\n",
       "      <td>24.162</td>\n",
       "      <td>23.517</td>\n",
       "      <td>23.517</td>\n",
       "      <td>526200</td>\n",
       "      <td>ntb</td>\n",
       "    </tr>\n",
       "    <tr>\n",
       "      <th>2</th>\n",
       "      <td>2016-09-20</td>\n",
       "      <td>23.375</td>\n",
       "      <td>23.566</td>\n",
       "      <td>23.038</td>\n",
       "      <td>23.566</td>\n",
       "      <td>499319</td>\n",
       "      <td>ntb</td>\n",
       "    </tr>\n",
       "    <tr>\n",
       "      <th>3</th>\n",
       "      <td>2016-09-21</td>\n",
       "      <td>23.239</td>\n",
       "      <td>23.517</td>\n",
       "      <td>23.038</td>\n",
       "      <td>23.067</td>\n",
       "      <td>248349</td>\n",
       "      <td>ntb</td>\n",
       "    </tr>\n",
       "    <tr>\n",
       "      <th>4</th>\n",
       "      <td>2016-09-22</td>\n",
       "      <td>23.182</td>\n",
       "      <td>23.182</td>\n",
       "      <td>23.028</td>\n",
       "      <td>23.048</td>\n",
       "      <td>390700</td>\n",
       "      <td>ntb</td>\n",
       "    </tr>\n",
       "    <tr>\n",
       "      <th>...</th>\n",
       "      <td>...</td>\n",
       "      <td>...</td>\n",
       "      <td>...</td>\n",
       "      <td>...</td>\n",
       "      <td>...</td>\n",
       "      <td>...</td>\n",
       "      <td>...</td>\n",
       "    </tr>\n",
       "    <tr>\n",
       "      <th>14887660</th>\n",
       "      <td>2017-11-06</td>\n",
       "      <td>38.350</td>\n",
       "      <td>38.865</td>\n",
       "      <td>38.270</td>\n",
       "      <td>38.510</td>\n",
       "      <td>315142</td>\n",
       "      <td>aat</td>\n",
       "    </tr>\n",
       "    <tr>\n",
       "      <th>14887661</th>\n",
       "      <td>2017-11-07</td>\n",
       "      <td>38.640</td>\n",
       "      <td>39.090</td>\n",
       "      <td>38.555</td>\n",
       "      <td>38.980</td>\n",
       "      <td>454858</td>\n",
       "      <td>aat</td>\n",
       "    </tr>\n",
       "    <tr>\n",
       "      <th>14887662</th>\n",
       "      <td>2017-11-08</td>\n",
       "      <td>38.740</td>\n",
       "      <td>39.160</td>\n",
       "      <td>38.680</td>\n",
       "      <td>38.900</td>\n",
       "      <td>262062</td>\n",
       "      <td>aat</td>\n",
       "    </tr>\n",
       "    <tr>\n",
       "      <th>14887663</th>\n",
       "      <td>2017-11-09</td>\n",
       "      <td>38.860</td>\n",
       "      <td>39.830</td>\n",
       "      <td>38.860</td>\n",
       "      <td>39.420</td>\n",
       "      <td>431340</td>\n",
       "      <td>aat</td>\n",
       "    </tr>\n",
       "    <tr>\n",
       "      <th>14887664</th>\n",
       "      <td>2017-11-10</td>\n",
       "      <td>39.210</td>\n",
       "      <td>39.560</td>\n",
       "      <td>39.002</td>\n",
       "      <td>39.330</td>\n",
       "      <td>259585</td>\n",
       "      <td>aat</td>\n",
       "    </tr>\n",
       "  </tbody>\n",
       "</table>\n",
       "<p>14887665 rows × 7 columns</p>\n",
       "</div>"
      ],
      "text/plain": [
       "               Date    Open    High     Low   Close   Volume Name\n",
       "0        2016-09-16  24.094  24.363  23.596  23.757  5134322  ntb\n",
       "1        2016-09-19  23.903  24.162  23.517  23.517   526200  ntb\n",
       "2        2016-09-20  23.375  23.566  23.038  23.566   499319  ntb\n",
       "3        2016-09-21  23.239  23.517  23.038  23.067   248349  ntb\n",
       "4        2016-09-22  23.182  23.182  23.028  23.048   390700  ntb\n",
       "...             ...     ...     ...     ...     ...      ...  ...\n",
       "14887660 2017-11-06  38.350  38.865  38.270  38.510   315142  aat\n",
       "14887661 2017-11-07  38.640  39.090  38.555  38.980   454858  aat\n",
       "14887662 2017-11-08  38.740  39.160  38.680  38.900   262062  aat\n",
       "14887663 2017-11-09  38.860  39.830  38.860  39.420   431340  aat\n",
       "14887664 2017-11-10  39.210  39.560  39.002  39.330   259585  aat\n",
       "\n",
       "[14887665 rows x 7 columns]"
      ]
     },
     "execution_count": 28,
     "metadata": {},
     "output_type": "execute_result"
    }
   ],
   "source": [
    "stocks_df"
   ]
  },
  {
   "cell_type": "code",
   "execution_count": 30,
   "metadata": {},
   "outputs": [
    {
     "data": {
      "text/plain": [
       "0           24.094\n",
       "1           23.903\n",
       "2           23.375\n",
       "3           23.239\n",
       "4           23.182\n",
       "             ...  \n",
       "14887660    38.350\n",
       "14887661    38.640\n",
       "14887662    38.740\n",
       "14887663    38.860\n",
       "14887664    39.210\n",
       "Name: Open, Length: 14887665, dtype: float64"
      ]
     },
     "execution_count": 30,
     "metadata": {},
     "output_type": "execute_result"
    }
   ],
   "source": []
  },
  {
   "cell_type": "code",
   "execution_count": null,
   "metadata": {},
   "outputs": [],
   "source": []
  }
 ],
 "metadata": {
  "kernelspec": {
   "display_name": ".venv",
   "language": "python",
   "name": "python3"
  },
  "language_info": {
   "codemirror_mode": {
    "name": "ipython",
    "version": 3
   },
   "file_extension": ".py",
   "mimetype": "text/x-python",
   "name": "python",
   "nbconvert_exporter": "python",
   "pygments_lexer": "ipython3",
   "version": "3.10.12"
  }
 },
 "nbformat": 4,
 "nbformat_minor": 2
}
